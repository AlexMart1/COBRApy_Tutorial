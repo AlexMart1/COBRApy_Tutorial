{
 "cells": [
  {
   "cell_type": "markdown",
   "metadata": {},
   "source": [
    "# Optimization solvers\n",
    "\n",
    "## optlang (https://optlang.readthedocs.io/en/latest/#optlang)\n",
    "\n",
    "#### Optlang is a Python package implementing a modeling language for solving mathematical optimization problems, i.e. maximizing or minimizing an objective function over a set of variables subject to a number of constraints. Optlang provides a common interface to a series of optimization tools, so different solver backends can be changed in a transparent way.\n",
    "\n",
    "#### In constrast to e.g. the commonly used General Algebraic Modeling System (GAMS), optlang has a simple and intuitive interface using native Python algebra syntax, and is free and open-source.\n",
    "\n",
    "#### Optlang takes advantage of the symbolic math library SymPy to allow objective functions and constraints to be easily formulated from symbolic expressions of variables (see examples). Scientists can thus use optlang to formulate their optimization problems using mathematical expressions derived from domain knowledge.\n",
    "\n",
    "#### Currently supported solvers are:\n",
    "<br>\n",
    "GLPK (LP/MILP; via swiglpk)\n",
    "<br>\n",
    "CPLEX (LP/MILP/QP)\n",
    "<br>\n",
    "Gurobi (LP/MILP/QP)\n",
    "<br>\n",
    "inspyred (heuristic optimization; experimental)<br>\n",
    "<br>\n",
    "\n",
    "#### Support for the following solvers is in the works:\n",
    "<br>\n",
    "GAMS (LP/MILP/QP/NLP; will include support for solving problems on neos-server.org)<br>\n",
    "SOPLEX (exact LP)<br>\n",
    "MOSEK, (LP/MILP/QP)<br>\n",
    "\n",
    "<br><br><br> \n",
    "### Solver implementation\n",
    "\n",
    "\\begin{split}\\begin{aligned}\n",
    "    Max~ & ~ 10 x_1 + 6 x_2 + 4 x_3 \\\\\n",
    "    s.t.~ & ~ x_1 + x_2 + x_3 <= 100 \\\\\n",
    "    ~ & ~ 10 x_1 + 4 x_2 + 5 x_3 <= 600 \\\\\n",
    "    ~ & ~ 2 x_1 + 2 x_2 + 6 x_3 <= 300 \\\\\n",
    "    ~ & ~ x_1 \\geq 0, x_2 \\geq 0, x_3 \\geq 0\n",
    "\\end{aligned}\\end{split}"
   ]
  },
  {
   "cell_type": "code",
   "execution_count": 3,
   "metadata": {},
   "outputs": [
    {
     "name": "stdout",
     "output_type": "stream",
     "text": [
      "status: optimal\n",
      "objective value: 733.3333333333333\n",
      "----------\n",
      "x1 = 33.33333333333333\n",
      "x2 = 66.66666666666667\n",
      "x3 = 0.0\n"
     ]
    }
   ],
   "source": [
    "from optlang import Model, Variable, Constraint, Objective\n",
    "\n",
    "# All the (symbolic) variables are declared, with a name and optionally a lower and/or upper bound.\n",
    "x1 = Variable('x1', lb=0)\n",
    "x2 = Variable('x2', lb=0)\n",
    "x3 = Variable('x3', lb=0)\n",
    "\n",
    "# A constraint is constructed from an expression of variables and a lower and/or upper bound (lb and ub).\n",
    "c1 = Constraint(x1 + x2 + x3, ub=100)\n",
    "c2 = Constraint(10 * x1 + 4 * x2 + 5 * x3, ub=600)\n",
    "c3 = Constraint(2 * x1 + 2 * x2 + 6 * x3, ub=300)\n",
    "\n",
    "# An objective can be formulated\n",
    "obj = Objective(10 * x1 + 6 * x2 + 4 * x3, direction='max')\n",
    "\n",
    "# Variables, constraints and objective are combined in a Model object, which can subsequently be optimized.\n",
    "model = Model(name='Simple model')\n",
    "model.objective = obj\n",
    "model.add([c1, c2, c3])\n",
    "##############################\n",
    "##############################\n",
    "status = model.optimize() ####\n",
    "##############################\n",
    "##############################\n",
    "print(\"status:\", model.status)\n",
    "print(\"objective value:\", model.objective.value)\n",
    "print(\"----------\")\n",
    "for var_name, var in model.variables.items():\n",
    "    print(var_name, \"=\", var.primal)"
   ]
  },
  {
   "cell_type": "code",
   "execution_count": 5,
   "metadata": {},
   "outputs": [],
   "source": [
    "import cameo"
   ]
  },
  {
   "cell_type": "code",
   "execution_count": 6,
   "metadata": {},
   "outputs": [],
   "source": [
    "model=cameo.models.bigg.e_coli_core"
   ]
  },
  {
   "cell_type": "code",
   "execution_count": 10,
   "metadata": {},
   "outputs": [],
   "source": [
    "##########################\n",
    "solution=model.optimize()#\n",
    "##########################"
   ]
  },
  {
   "cell_type": "code",
   "execution_count": null,
   "metadata": {},
   "outputs": [],
   "source": []
  },
  {
   "cell_type": "code",
   "execution_count": null,
   "metadata": {},
   "outputs": [],
   "source": []
  }
 ],
 "metadata": {
  "kernelspec": {
   "display_name": "Python 3",
   "language": "python",
   "name": "python3"
  },
  "language_info": {
   "codemirror_mode": {
    "name": "ipython",
    "version": 3
   },
   "file_extension": ".py",
   "mimetype": "text/x-python",
   "name": "python",
   "nbconvert_exporter": "python",
   "pygments_lexer": "ipython3",
   "version": "3.7.0"
  }
 },
 "nbformat": 4,
 "nbformat_minor": 2
}
