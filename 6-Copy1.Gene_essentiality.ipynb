{
 "cells": [
  {
   "cell_type": "markdown",
   "metadata": {},
   "source": [
    "# Gene essentiality"
   ]
  },
  {
   "cell_type": "code",
   "execution_count": 13,
   "metadata": {},
   "outputs": [],
   "source": [
    "import matplotlib.pyplot as plt\n",
    "plt.style.use('ggplot')\n",
    "from pandas import DataFrame\n",
    "from cobra.io import read_sbml_model\n",
    "%matplotlib inline\n",
    "model = read_sbml_model('e_coli_core.xml')"
   ]
  },
  {
   "cell_type": "markdown",
   "metadata": {},
   "source": [
    "### Knocking out a single gene\n",
    "#### In the model, exactly one gene is associated with reaction with phosphoglycerate kinase (PGK)."
   ]
  },
  {
   "cell_type": "code",
   "execution_count": 14,
   "metadata": {},
   "outputs": [
    {
     "data": {
      "text/plain": [
       "'Phosphoglycerate kinase'"
      ]
     },
     "execution_count": 14,
     "metadata": {},
     "output_type": "execute_result"
    }
   ],
   "source": [
    "model.reactions.PGK.name"
   ]
  },
  {
   "cell_type": "code",
   "execution_count": 15,
   "metadata": {},
   "outputs": [
    {
     "data": {
      "text/plain": [
       "frozenset({<Gene b2926 at 0x7f2bf8647990>})"
      ]
     },
     "execution_count": 15,
     "metadata": {},
     "output_type": "execute_result"
    }
   ],
   "source": [
    "model.reactions.PGK.genes"
   ]
  },
  {
   "cell_type": "code",
   "execution_count": 16,
   "metadata": {},
   "outputs": [
    {
     "data": {
      "text/plain": [
       "'b2926'"
      ]
     },
     "execution_count": 16,
     "metadata": {},
     "output_type": "execute_result"
    }
   ],
   "source": [
    "model.reactions.PGK.gene_reaction_rule"
   ]
  },
  {
   "cell_type": "code",
   "execution_count": 17,
   "metadata": {},
   "outputs": [
    {
     "data": {
      "text/plain": [
       "'pgk'"
      ]
     },
     "execution_count": 17,
     "metadata": {},
     "output_type": "execute_result"
    }
   ],
   "source": [
    "model.genes.b2926.name"
   ]
  },
  {
   "cell_type": "markdown",
   "metadata": {},
   "source": [
    "### Is pgk essential? Let's find out.\n",
    "\n"
   ]
  },
  {
   "cell_type": "code",
   "execution_count": 6,
   "metadata": {},
   "outputs": [
    {
     "name": "stdout",
     "output_type": "stream",
     "text": [
      "0.0\n"
     ]
    }
   ],
   "source": [
    "model.genes.b2926.knock_out()\n",
    "print(model.slim_optimize())"
   ]
  },
  {
   "cell_type": "markdown",
   "metadata": {},
   "source": [
    "## Yes, it is.\n",
    "\n",
    "### But using this method we modiffied the model that we are working with?\n",
    "\n",
    "## what can we do to avoid this?"
   ]
  },
  {
   "cell_type": "code",
   "execution_count": 18,
   "metadata": {},
   "outputs": [],
   "source": [
    "model = read_sbml_model('e_coli_core.xml')\n",
    "model2=model.copy()"
   ]
  },
  {
   "cell_type": "markdown",
   "metadata": {},
   "source": [
    "### This may work for one mutant but what happends when we want to do a model-wide exploration?\n",
    "\n",
    "### Perform all possible single gene deletions\n",
    "#### Using a for loop allows to iterate over all genes in the model and knock out each one of them individually. We're using the model as a context to undo every gene deletion before proceeding to the next knockout."
   ]
  },
  {
   "cell_type": "code",
   "execution_count": 19,
   "metadata": {},
   "outputs": [],
   "source": [
    "essentiality = {}\n",
    "for gene in model.genes:\n",
    "    with model:\n",
    "        gene.knock_out()\n",
    "        essentiality[gene] = model.slim_optimize(error_value=0.)"
   ]
  },
  {
   "cell_type": "code",
   "execution_count": 9,
   "metadata": {},
   "outputs": [
    {
     "data": {
      "text/plain": [
       "{<Gene b4014 at 0x7f2bfab39050>: 0.8739215069684286,\n",
       " <Gene b3236 at 0x7f2bfab39090>: 0.8258192905969877,\n",
       " <Gene b1479 at 0x7f2bfab390d0>: 0.8739215069684299,\n",
       " <Gene b2463 at 0x7f2bfab39110>: 0.8739215069684299,\n",
       " <Gene b2276 at 0x7f2bfab39150>: 0.2116629497353147,\n",
       " <Gene b2279 at 0x7f2bfab39190>: 0.2116629497353147,\n",
       " <Gene b2288 at 0x7f2bfab391d0>: 0.2116629497353147,\n",
       " <Gene b2278 at 0x7f2bfab39210>: 0.2116629497353147,\n",
       " <Gene b2286 at 0x7f2bfab39250>: 0.2116629497353147,\n",
       " <Gene b2285 at 0x7f2bfab39290>: 0.2116629497353147,\n",
       " <Gene b2283 at 0x7f2bfab392d0>: 0.2116629497353147,\n",
       " <Gene b2287 at 0x7f2bfab39310>: 0.2116629497353147,\n",
       " <Gene b2284 at 0x7f2bfab39350>: 0.2116629497353147,\n",
       " <Gene b2281 at 0x7f2bfab39390>: 0.2116629497353147,\n",
       " <Gene b2277 at 0x7f2bfab393d0>: 0.2116629497353147,\n",
       " <Gene b2282 at 0x7f2bfab39410>: 0.2116629497353147,\n",
       " <Gene b2280 at 0x7f2bfab39450>: 0.2116629497353147,\n",
       " <Gene b1603 at 0x7f2bfab39490>: 0.87392150696843,\n",
       " <Gene b1602 at 0x7f2bfab394d0>: 0.87392150696843,\n",
       " <Gene b3962 at 0x7f2bfab39510>: 0.87392150696843,\n",
       " <Gene b0451 at 0x7f2bfab39550>: 0.87392150696843,\n",
       " <Gene b0114 at 0x7f2bfab39590>: 0.7966959254309564,\n",
       " <Gene b0115 at 0x7f2bfab395d0>: 0.7966959254309564,\n",
       " <Gene b1723 at 0x7f2bfab39610>: 0.87392150696843,\n",
       " <Gene b3916 at 0x7f2bfab39650>: 0.87392150696843,\n",
       " <Gene b3114 at 0x7f2bfab39690>: 0.87392150696843,\n",
       " <Gene b3952 at 0x7f2bfab396d0>: 0.87392150696843,\n",
       " <Gene b3951 at 0x7f2bfab39710>: 0.87392150696843,\n",
       " <Gene b0902 at 0x7f2bfab39750>: 0.87392150696843,\n",
       " <Gene b0903 at 0x7f2bfab39790>: 0.87392150696843,\n",
       " <Gene b2579 at 0x7f2bfab397d0>: 0.87392150696843,\n",
       " <Gene b4025 at 0x7f2bfab39810>: 0.8631595522084171,\n",
       " <Gene b2926 at 0x7f2bfab39850>: -7.96414406496546e-16,\n",
       " <Gene b0767 at 0x7f2bfab39890>: 0.8638133095039991,\n",
       " <Gene b0755 at 0x7f2bfab398d0>: 0.8739215069684304,\n",
       " <Gene b4395 at 0x7f2bfab39910>: 0.8739215069684304,\n",
       " <Gene b3612 at 0x7f2bfab39950>: 0.8739215069684304,\n",
       " <Gene b2987 at 0x7f2bfab39990>: 0.8739215069684304,\n",
       " <Gene b3493 at 0x7f2bfab399d0>: 0.8739215069684304,\n",
       " <Gene b3956 at 0x7f2bfab39a10>: 0.8707448062160255,\n",
       " <Gene b3403 at 0x7f2bfab39a50>: 0.8739215069684299,\n",
       " <Gene b1702 at 0x7f2bfab39a90>: 0.8739215069684299,\n",
       " <Gene b2297 at 0x7f2bfab39ad0>: 0.8739215069684299,\n",
       " <Gene b2458 at 0x7f2bfab39b10>: 0.8739215069684299,\n",
       " <Gene b1676 at 0x7f2bfab39b50>: 0.8739215069684299,\n",
       " <Gene b1854 at 0x7f2bfab39b90>: 0.8739215069684299,\n",
       " <Gene b4301 at 0x7f2bfab39bd0>: 0.8739215069684299,\n",
       " <Gene b3386 at 0x7f2bfab39c10>: 0.8739215069684299,\n",
       " <Gene b2914 at 0x7f2bfab39c50>: 0.8739215069684299,\n",
       " <Gene b4090 at 0x7f2bfab39c90>: 0.8739215069684299,\n",
       " <Gene b0723 at 0x7f2bfab39cd0>: 0.8142975075325369,\n",
       " <Gene b0724 at 0x7f2bfab39d10>: 0.8142975075325369,\n",
       " <Gene b0722 at 0x7f2bfab39d50>: 0.8142975075325369,\n",
       " <Gene b0721 at 0x7f2bfab39d90>: 0.8142975075325369,\n",
       " <Gene b0729 at 0x7f2bfab39dd0>: 0.8583074080226895,\n",
       " <Gene b0728 at 0x7f2bfab39e10>: 0.8583074080226895,\n",
       " <Gene b0008 at 0x7f2bfab39e50>: 0.8739215069684301,\n",
       " <Gene b2464 at 0x7f2bfab39e90>: 0.8739215069684301,\n",
       " <Gene b2935 at 0x7f2bfab39ed0>: 0.8739215069684301,\n",
       " <Gene b2465 at 0x7f2bfab39f10>: 0.8739215069684301,\n",
       " <Gene b3919 at 0x7f2bfab39f50>: 0.7040369478590238,\n",
       " <Gene b1819 at 0x7f2bfab7d090>: 0.8739215069684309,\n",
       " <Gene b2415 at 0x7f2bfab7d0d0>: 0.8739215069684309,\n",
       " <Gene b1611 at 0x7f2bfab7d110>: 0.8739215069684309,\n",
       " <Gene b1818 at 0x7f2bfab7d150>: 0.8739215069684309,\n",
       " <Gene b1612 at 0x7f2bfab7d190>: 0.8739215069684309,\n",
       " <Gene b4122 at 0x7f2bfab7d1d0>: 0.8739215069684309,\n",
       " <Gene b4153 at 0x7f2bfab7d290>: 0.8739215069684309,\n",
       " <Gene b2416 at 0x7f2bfab7d2d0>: 0.8739215069684309,\n",
       " <Gene b1817 at 0x7f2bfab7d310>: 0.8739215069684309,\n",
       " <Gene b0904 at 0x7f2bfab7d350>: 0.8739215069684309,\n",
       " <Gene b4154 at 0x7f2bfab7d390>: 0.8739215069684309,\n",
       " <Gene b3925 at 0x7f2bfab7d3d0>: 0.8739215069684309,\n",
       " <Gene b4151 at 0x7f2bfab7d410>: 0.8739215069684309,\n",
       " <Gene b4152 at 0x7f2bfab7d450>: 0.8739215069684309,\n",
       " <Gene b2925 at 0x7f2bfab7d4d0>: 0.8739215069684309,\n",
       " <Gene b1773 at 0x7f2bfab7d510>: 0.8739215069684309,\n",
       " <Gene b4232 at 0x7f2bfab7d550>: 0.8739215069684309,\n",
       " <Gene b2492 at 0x7f2bfab7d590>: 0.8739215069684309,\n",
       " <Gene b2097 at 0x7f2bfab7d5d0>: 0.8739215069684309,\n",
       " <Gene b3603 at 0x7f2bfab7d610>: 0.8739215069684303,\n",
       " <Gene b0733 at 0x7f2bfab7d690>: 0.8739215069684303,\n",
       " <Gene b0720 at 0x7f2bfab7d6d0>: 3.257350413950354e-15,\n",
       " <Gene b0734 at 0x7f2bfab7d710>: 0.8739215069684303,\n",
       " <Gene b0978 at 0x7f2bfab7d750>: 0.8739215069684303,\n",
       " <Gene b2779 at 0x7f2bfab7d790>: -8.356777420775873e-17,\n",
       " <Gene b2975 at 0x7f2bfab7d7d0>: 0.8739215069684303,\n",
       " <Gene b3733 at 0x7f2bfab7d890>: 0.8739215069684304,\n",
       " <Gene b3738 at 0x7f2bfab7d8d0>: 0.8739215069684304,\n",
       " <Gene b0979 at 0x7f2bfab7d910>: 0.8739215069684303,\n",
       " <Gene b3739 at 0x7f2bfab7d950>: 0.8739215069684304,\n",
       " <Gene b3528 at 0x7f2bfab7d990>: 0.8739215069684309,\n",
       " <Gene b1852 at 0x7f2bfab7d9d0>: 0.8638133095040007,\n",
       " <Gene b3735 at 0x7f2bfab7da10>: 0.8739215069684304,\n",
       " <Gene b1779 at 0x7f2bfab7da50>: -4.385265011825619e-17,\n",
       " <Gene b1101 at 0x7f2bfab7da90>: 0.87392150696843,\n",
       " <Gene b2417 at 0x7f2bfab7dad0>: 0.87392150696843,\n",
       " <Gene b1621 at 0x7f2bfab7db10>: 0.87392150696843,\n",
       " <Gene b1297 at 0x7f2bfab7db50>: 0.87392150696843,\n",
       " <Gene b3870 at 0x7f2bfab7db90>: 0.87392150696843,\n",
       " <Gene b0811 at 0x7f2bfab7dbd0>: 0.87392150696843,\n",
       " <Gene b0810 at 0x7f2bfab7dc10>: 0.87392150696843,\n",
       " <Gene b0809 at 0x7f2bfab7dc50>: 0.87392150696843,\n",
       " <Gene b1761 at 0x7f2bfab7dc90>: 0.8513885233462085,\n",
       " <Gene b0485 at 0x7f2bfab7dcd0>: 0.87392150696843,\n",
       " <Gene b1524 at 0x7f2bfab7dd10>: 0.87392150696843,\n",
       " <Gene b1812 at 0x7f2bfab7dd50>: 0.87392150696843,\n",
       " <Gene b3212 at 0x7f2bfab7dd90>: 0.87392150696843,\n",
       " <Gene b3213 at 0x7f2bfab7ddd0>: 0.87392150696843,\n",
       " <Gene b4077 at 0x7f2bfab7de10>: 0.87392150696843,\n",
       " <Gene b2029 at 0x7f2bfab7de50>: 0.8638133095040008,\n",
       " <Gene b0875 at 0x7f2bfab7de90>: 0.87392150696843,\n",
       " <Gene b1136 at 0x7f2bfab7ded0>: -9.943910874788437e-15,\n",
       " <Gene b4015 at 0x7f2bfab7df10>: 0.8739215069684286,\n",
       " <Gene b2133 at 0x7f2bfab7df50>: 0.8739215069684286,\n",
       " <Gene b1380 at 0x7f2bfab7df90>: 0.8739215069684286,\n",
       " <Gene b2976 at 0x7f2bfab7dfd0>: 0.8739215069684286,\n",
       " <Gene b0118 at 0x7f2bfabd4090>: 0.8739215069684264,\n",
       " <Gene b1276 at 0x7f2bfabd40d0>: 0.8739215069684264,\n",
       " <Gene b0474 at 0x7f2bfabd4110>: 0.8739215069684264,\n",
       " <Gene b0726 at 0x7f2bfabd4150>: 0.8583074080226811,\n",
       " <Gene b2296 at 0x7f2bfabd4190>: 0.8739215069684264,\n",
       " <Gene b1241 at 0x7f2bfabd4290>: 0.8739215069684307,\n",
       " <Gene b1849 at 0x7f2bfabd4350>: 0.8739215069684264,\n",
       " <Gene b3115 at 0x7f2bfabd4390>: 0.8739215069684264,\n",
       " <Gene s0001 at 0x7f2bfabd43d0>: 0.21114065257211487,\n",
       " <Gene b0351 at 0x7f2bfabd4610>: 0.8739215069684307,\n",
       " <Gene b0116 at 0x7f2c4442fb90>: 0.782351052947739,\n",
       " <Gene b2587 at 0x7f2c4442fc10>: 0.8739215069684304,\n",
       " <Gene b1478 at 0x7f2c4442fd50>: 0.8739215069684304,\n",
       " <Gene b3737 at 0x7f2c4442fd90>: 0.8739215069684304,\n",
       " <Gene b3734 at 0x7f2c4442fdd0>: 0.8739215069684304,\n",
       " <Gene b3732 at 0x7f2c4442fe10>: 0.8739215069684304,\n",
       " <Gene b3731 at 0x7f2c4442fe50>: 0.8739215069684304,\n",
       " <Gene b0356 at 0x7f2c4442ff10>: 0.8739215069684304,\n",
       " <Gene b0727 at 0x7f2c4442ff50>: 0.8583074080226886,\n",
       " <Gene b3736 at 0x7f2c4442ffd0>: 0.8739215069684304}"
      ]
     },
     "execution_count": 9,
     "metadata": {},
     "output_type": "execute_result"
    }
   ],
   "source": [
    "essentiality"
   ]
  },
  {
   "cell_type": "code",
   "execution_count": 22,
   "metadata": {},
   "outputs": [],
   "source": [
    "from pandas import Series\n",
    "ess=Series(essentiality)"
   ]
  },
  {
   "cell_type": "code",
   "execution_count": 24,
   "metadata": {
    "scrolled": true
   },
   "outputs": [
    {
     "data": {
      "text/plain": [
       "b1854    8.739215e-01\n",
       "b4301    8.739215e-01\n",
       "b3386    8.739215e-01\n",
       "b2914    8.739215e-01\n",
       "b4090    8.739215e-01\n",
       "b0723    8.142975e-01\n",
       "b0724    8.142975e-01\n",
       "b0722    8.142975e-01\n",
       "b0721    8.142975e-01\n",
       "b0729    8.583074e-01\n",
       "b0728    8.583074e-01\n",
       "b0008    8.739215e-01\n",
       "b2464    8.739215e-01\n",
       "b2935    8.739215e-01\n",
       "b2465    8.739215e-01\n",
       "b3919    7.040369e-01\n",
       "b0451    8.739215e-01\n",
       "b2285    2.116629e-01\n",
       "b2283    2.116629e-01\n",
       "b2287    2.116629e-01\n",
       "b2284    2.116629e-01\n",
       "b3962    8.739215e-01\n",
       "b1602    8.739215e-01\n",
       "b2277    2.116629e-01\n",
       "b2282    2.116629e-01\n",
       "b1603    8.739215e-01\n",
       "b2280    2.116629e-01\n",
       "b3916    8.739215e-01\n",
       "b3114    8.739215e-01\n",
       "b0115    7.966959e-01\n",
       "             ...     \n",
       "b3735    8.739215e-01\n",
       "b3732    8.739215e-01\n",
       "b3738    8.739215e-01\n",
       "b3733    8.739215e-01\n",
       "b1478    8.739215e-01\n",
       "b3739    8.739215e-01\n",
       "b0733    8.739215e-01\n",
       "b3736    8.739215e-01\n",
       "b0720   -1.892708e-15\n",
       "b0978    8.739215e-01\n",
       "b0979    8.739215e-01\n",
       "b0903    8.739215e-01\n",
       "b2579    8.739215e-01\n",
       "b2926    3.327894e-16\n",
       "b4025    8.631596e-01\n",
       "b0902    8.739215e-01\n",
       "b0755    8.739215e-01\n",
       "b0767    8.638133e-01\n",
       "b3951    8.739215e-01\n",
       "b3952    8.739215e-01\n",
       "b3403    8.739215e-01\n",
       "b4395    8.739215e-01\n",
       "b2297    8.739215e-01\n",
       "b3956    8.707448e-01\n",
       "b3493    8.739215e-01\n",
       "b1702    8.739215e-01\n",
       "b1676    8.739215e-01\n",
       "b2458    8.739215e-01\n",
       "b2987    8.739215e-01\n",
       "b3612    8.739215e-01\n",
       "Length: 137, dtype: float64"
      ]
     },
     "execution_count": 24,
     "metadata": {},
     "output_type": "execute_result"
    }
   ],
   "source": [
    "ess"
   ]
  },
  {
   "cell_type": "code",
   "execution_count": 10,
   "metadata": {},
   "outputs": [],
   "source": [
    "df = DataFrame.from_dict(essentiality, orient='index')\n",
    "df = df.rename(columns={0: 'growth'})\n",
    "df = df.sort_values('growth')"
   ]
  },
  {
   "cell_type": "code",
   "execution_count": 11,
   "metadata": {},
   "outputs": [
    {
     "data": {
      "text/plain": [
       "<matplotlib.axes._subplots.AxesSubplot at 0x7f2bfa9e25d0>"
      ]
     },
     "execution_count": 11,
     "metadata": {},
     "output_type": "execute_result"
    },
    {
     "data": {
      "image/png": "[encoded data removed]",
      "text/plain": [
       "<matplotlib.figure.Figure at 0x7f2c400e0f10>"
      ]
     },
     "metadata": {},
     "output_type": "display_data"
    }
   ],
   "source": [
    "df.plot.hist()"
   ]
  },
  {
   "cell_type": "code",
   "execution_count": 12,
   "metadata": {},
   "outputs": [
    {
     "data": {
      "image/png": "[encoded data removed]",
      "text/plain": [
       "<matplotlib.figure.Figure at 0x7f2c445b93d0>"
      ]
     },
     "metadata": {},
     "output_type": "display_data"
    }
   ],
   "source": [
    "ax = df.plot.bar().axes\n",
    "ax.figure.set_size_inches(16, 9)"
   ]
  },
  {
   "cell_type": "code",
   "execution_count": null,
   "metadata": {},
   "outputs": [],
   "source": []
  }
 ],
 "metadata": {
  "kernelspec": {
   "display_name": "Python 2",
   "language": "python",
   "name": "python2"
  },
  "language_info": {
   "codemirror_mode": {
    "name": "ipython",
    "version": 2
   },
   "file_extension": ".py",
   "mimetype": "text/x-python",
   "name": "python",
   "nbconvert_exporter": "python",
   "pygments_lexer": "ipython2",
   "version": "2.7.15rc1"
  }
 },
 "nbformat": 4,
 "nbformat_minor": 2
}
