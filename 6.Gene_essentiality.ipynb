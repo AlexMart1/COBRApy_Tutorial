{
 "cells": [
  {
   "cell_type": "markdown",
   "metadata": {},
   "source": [
    "# Gene essentiality"
   ]
  },
  {
   "cell_type": "code",
   "execution_count": 1,
   "metadata": {},
   "outputs": [],
   "source": [
    "import matplotlib.pyplot as plt\n",
    "plt.style.use('ggplot')\n",
    "from pandas import DataFrame\n",
    "from cobra.io import read_sbml_model\n",
    "%matplotlib inline\n",
    "model = read_sbml_model('e_coli_core.xml')"
   ]
  },
  {
   "cell_type": "markdown",
   "metadata": {},
   "source": [
    "### Knocking out a single gene\n",
    "#### In the model, exactly one gene is associated with reaction with phosphoglycerate kinase (PGK)."
   ]
  },
  {
   "cell_type": "code",
   "execution_count": 7,
   "metadata": {},
   "outputs": [
    {
     "data": {
      "text/plain": [
       "'Phosphoglycerate kinase'"
      ]
     },
     "execution_count": 7,
     "metadata": {},
     "output_type": "execute_result"
    }
   ],
   "source": [
    "model.reactions.PGK.name"
   ]
  },
  {
   "cell_type": "code",
   "execution_count": 2,
   "metadata": {},
   "outputs": [
    {
     "data": {
      "text/plain": [
       "frozenset({<Gene b2926 at 0x7f34b9f56c18>})"
      ]
     },
     "execution_count": 2,
     "metadata": {},
     "output_type": "execute_result"
    }
   ],
   "source": [
    "model.reactions.PGK.genes"
   ]
  },
  {
   "cell_type": "code",
   "execution_count": 5,
   "metadata": {},
   "outputs": [
    {
     "data": {
      "text/plain": [
       "'b2926'"
      ]
     },
     "execution_count": 5,
     "metadata": {},
     "output_type": "execute_result"
    }
   ],
   "source": [
    "model.reactions.PGK.gene_reaction_rule"
   ]
  },
  {
   "cell_type": "code",
   "execution_count": 6,
   "metadata": {},
   "outputs": [
    {
     "data": {
      "text/plain": [
       "'pgk'"
      ]
     },
     "execution_count": 6,
     "metadata": {},
     "output_type": "execute_result"
    }
   ],
   "source": [
    "model.genes.b2926.name"
   ]
  },
  {
   "cell_type": "markdown",
   "metadata": {},
   "source": [
    "### Is pgk essential? Let's find out.\n",
    "\n"
   ]
  },
  {
   "cell_type": "code",
   "execution_count": 9,
   "metadata": {},
   "outputs": [
    {
     "name": "stdout",
     "output_type": "stream",
     "text": [
      "0.0\n"
     ]
    }
   ],
   "source": [
    "model.genes.b2926.knock_out()\n",
    "print(model.slim_optimize())"
   ]
  },
  {
   "cell_type": "markdown",
   "metadata": {},
   "source": [
    "## Yes, it is.\n",
    "\n",
    "### But using this method we modiffied the model that we are working with?\n",
    "\n",
    "## what can we do to avoid this?"
   ]
  },
  {
   "cell_type": "code",
   "execution_count": 13,
   "metadata": {},
   "outputs": [],
   "source": [
    "model = read_sbml_model('e_coli_core.xml')\n",
    "model2=model.copy()"
   ]
  },
  {
   "cell_type": "markdown",
   "metadata": {},
   "source": [
    "### This may work for one mutant but what happends when we want to do a model-wide exploration?\n",
    "\n",
    "### Perform all possible single gene deletions\n",
    "#### Using a for loop allows to iterate over all genes in the model and knock out each one of them individually. We're using the model as a context to undo every gene deletion before proceeding to the next knockout."
   ]
  },
  {
   "cell_type": "code",
   "execution_count": 14,
   "metadata": {},
   "outputs": [],
   "source": [
    "essentiality = {}\n",
    "for gene in model.genes:\n",
    "    with model:\n",
    "        gene.knock_out()\n",
    "        essentiality[gene] = model.slim_optimize(error_value=0.)"
   ]
  },
  {
   "cell_type": "code",
   "execution_count": 15,
   "metadata": {},
   "outputs": [
    {
     "data": {
      "text/plain": [
       "{<Gene b0351 at 0x7f34b98d8630>: 0.8739215069684304,\n",
       " <Gene b1241 at 0x7f34b98d85f8>: 0.8739215069684304,\n",
       " <Gene s0001 at 0x7f34b98d86d8>: 0.211140652572116,\n",
       " <Gene b2296 at 0x7f34b98d8780>: 0.8739215069684304,\n",
       " <Gene b3115 at 0x7f34b98d8828>: 0.8739215069684304,\n",
       " <Gene b1849 at 0x7f34b98d88d0>: 0.8739215069684304,\n",
       " <Gene b1276 at 0x7f34b98d8978>: 0.8739215069684304,\n",
       " <Gene b0118 at 0x7f34b98d8a20>: 0.8739215069684304,\n",
       " <Gene b0474 at 0x7f34b98d8ac8>: 0.8739215069684304,\n",
       " <Gene b0726 at 0x7f34b98d8b70>: 0.8583074080226886,\n",
       " <Gene b0116 at 0x7f34b98d8c18>: 0.7823510529477393,\n",
       " <Gene b0727 at 0x7f34b98d8cc0>: 0.8583074080226886,\n",
       " <Gene b2587 at 0x7f34b98d8d68>: 0.8739215069684304,\n",
       " <Gene b0356 at 0x7f34b98d8e10>: 0.8739215069684304,\n",
       " <Gene b1478 at 0x7f34b98d8eb8>: 0.8739215069684304,\n",
       " <Gene b3736 at 0x7f34b98d8f60>: 0.8739215069684304,\n",
       " <Gene b3731 at 0x7f34b98c5908>: 0.8739215069684304,\n",
       " <Gene b3732 at 0x7f34b98dc080>: 0.8739215069684304,\n",
       " <Gene b3737 at 0x7f34b98dc128>: 0.8739215069684304,\n",
       " <Gene b3734 at 0x7f34b98dc1d0>: 0.8739215069684304,\n",
       " <Gene b3735 at 0x7f34b98dc278>: 0.8739215069684304,\n",
       " <Gene b3738 at 0x7f34b98dc320>: 0.8739215069684304,\n",
       " <Gene b3739 at 0x7f34b98dc3c8>: 0.8739215069684304,\n",
       " <Gene b3733 at 0x7f34b98dc470>: 0.8739215069684304,\n",
       " <Gene b0720 at 0x7f34b98dc518>: 0.0,\n",
       " <Gene b0979 at 0x7f34b98dc5c0>: 0.8739215069684304,\n",
       " <Gene b0978 at 0x7f34b98dc668>: 0.8739215069684304,\n",
       " <Gene b0733 at 0x7f34b98dc710>: 0.8739215069684304,\n",
       " <Gene b0734 at 0x7f34b98dc7b8>: 0.8739215069684304,\n",
       " <Gene b2975 at 0x7f34b98dc860>: 0.8739215069684304,\n",
       " <Gene b3603 at 0x7f34b98dc908>: 0.8739215069684304,\n",
       " <Gene b2779 at 0x7f34b98dc9b0>: 0.0,\n",
       " <Gene b2097 at 0x7f34b98dca58>: 0.8739215069684304,\n",
       " <Gene b1773 at 0x7f34b98dcb00>: 0.8739215069684304,\n",
       " <Gene b2925 at 0x7f34b98dcba8>: 0.8739215069684304,\n",
       " <Gene b4232 at 0x7f34b98dcc50>: 0.8739215069684304,\n",
       " <Gene b3925 at 0x7f34b98dccf8>: 0.8739215069684304,\n",
       " <Gene b2492 at 0x7f34b98dcda0>: 0.8739215069684304,\n",
       " <Gene b0904 at 0x7f34b98dce48>: 0.8739215069684304,\n",
       " <Gene b4151 at 0x7f34b98dcef0>: 0.8739215069684304,\n",
       " <Gene b4152 at 0x7f34b98dcf98>: 0.8739215069684304,\n",
       " <Gene b4154 at 0x7f34b98e0080>: 0.8739215069684304,\n",
       " <Gene b4153 at 0x7f34b98e0128>: 0.8739215069684304,\n",
       " <Gene b2416 at 0x7f34b98e01d0>: 0.8739215069684304,\n",
       " <Gene b2415 at 0x7f34b98e0278>: 0.8739215069684304,\n",
       " <Gene b1817 at 0x7f34b98e0320>: 0.8739215069684304,\n",
       " <Gene b1818 at 0x7f34b98e03c8>: 0.8739215069684304,\n",
       " <Gene b1819 at 0x7f34b98e0470>: 0.8739215069684304,\n",
       " <Gene b1611 at 0x7f34b98e0518>: 0.8739215069684304,\n",
       " <Gene b4122 at 0x7f34b98e05c0>: 0.8739215069684304,\n",
       " <Gene b1612 at 0x7f34b98e0668>: 0.8739215069684304,\n",
       " <Gene b3528 at 0x7f34b98e0710>: 0.8739215069684304,\n",
       " <Gene b1852 at 0x7f34b98e07b8>: 0.8638133095040009,\n",
       " <Gene b1779 at 0x7f34b98e0860>: 0.0,\n",
       " <Gene b1101 at 0x7f34b98e0908>: 0.8739215069684296,\n",
       " <Gene b2417 at 0x7f34b98e09b0>: 0.8739215069684296,\n",
       " <Gene b1621 at 0x7f34b98e0a58>: 0.8739215069684296,\n",
       " <Gene b1297 at 0x7f34b98e0b00>: 0.8739215069684296,\n",
       " <Gene b3870 at 0x7f34b9b9ccf8>: 0.8739215069684296,\n",
       " <Gene b0811 at 0x7f34b98e0c50>: 0.8739215069684296,\n",
       " <Gene b0810 at 0x7f34b98e0cc0>: 0.8739215069684296,\n",
       " <Gene b0809 at 0x7f34b98e0d68>: 0.8739215069684296,\n",
       " <Gene b1761 at 0x7f34b98e0e10>: 0.8513885233462052,\n",
       " <Gene b0485 at 0x7f34b98e0eb8>: 0.8739215069684296,\n",
       " <Gene b1524 at 0x7f34b98e0f60>: 0.8739215069684296,\n",
       " <Gene b1812 at 0x7f34b98e5048>: 0.8739215069684296,\n",
       " <Gene b3212 at 0x7f34b98e50f0>: 0.8739215069684296,\n",
       " <Gene b3213 at 0x7f34b98e5198>: 0.8739215069684296,\n",
       " <Gene b4077 at 0x7f34b98e5240>: 0.8739215069684296,\n",
       " <Gene b2029 at 0x7f34b98e52e8>: 0.8638133095040019,\n",
       " <Gene b0875 at 0x7f34b98e5390>: 0.8739215069684296,\n",
       " <Gene b1136 at 0x7f34b98e5438>: 0.0,\n",
       " <Gene b4015 at 0x7f34b98e54e0>: 0.8739215069684296,\n",
       " <Gene b2133 at 0x7f34b98e5588>: 0.8739215069684296,\n",
       " <Gene b1380 at 0x7f34b98e5630>: 0.8739215069684296,\n",
       " <Gene b2976 at 0x7f34b98e56d8>: 0.8739215069684296,\n",
       " <Gene b4014 at 0x7f34b98e5780>: 0.8739215069684296,\n",
       " <Gene b3236 at 0x7f34b98e5828>: 0.8258192905969879,\n",
       " <Gene b1479 at 0x7f34b98e58d0>: 0.8739215069684296,\n",
       " <Gene b2463 at 0x7f34b98e5978>: 0.8739215069684296,\n",
       " <Gene b2276 at 0x7f34b98e5a20>: 0.21166294973530198,\n",
       " <Gene b2279 at 0x7f34b98e5ac8>: 0.21166294973530198,\n",
       " <Gene b2288 at 0x7f34b98e5b70>: 0.21166294973530198,\n",
       " <Gene b2278 at 0x7f34b98e5c18>: 0.21166294973530198,\n",
       " <Gene b2286 at 0x7f34b98e5cc0>: 0.21166294973530198,\n",
       " <Gene b2285 at 0x7f34b98e5d68>: 0.21166294973530198,\n",
       " <Gene b2283 at 0x7f34b98e5e10>: 0.21166294973530198,\n",
       " <Gene b2287 at 0x7f34b98e5eb8>: 0.21166294973530198,\n",
       " <Gene b2284 at 0x7f34b98e5f60>: 0.21166294973530198,\n",
       " <Gene b2281 at 0x7f34b98ea048>: 0.21166294973530198,\n",
       " <Gene b2277 at 0x7f34b98ea0f0>: 0.21166294973530198,\n",
       " <Gene b2282 at 0x7f34b98ea198>: 0.21166294973530198,\n",
       " <Gene b2280 at 0x7f34b98ea240>: 0.21166294973530198,\n",
       " <Gene b1603 at 0x7f34b98ea2e8>: 0.8739215069684296,\n",
       " <Gene b1602 at 0x7f34b98ea390>: 0.8739215069684296,\n",
       " <Gene b3962 at 0x7f34b98ea438>: 0.8739215069684296,\n",
       " <Gene b0451 at 0x7f34b98ea4e0>: 0.8739215069684296,\n",
       " <Gene b0114 at 0x7f34b98ea588>: 0.7966959254309574,\n",
       " <Gene b0115 at 0x7f34b98ea630>: 0.7966959254309574,\n",
       " <Gene b1723 at 0x7f34b98ea6d8>: 0.8739215069684296,\n",
       " <Gene b3916 at 0x7f34b98ea780>: 0.8739215069684296,\n",
       " <Gene b3114 at 0x7f34b98ea828>: 0.8739215069684296,\n",
       " <Gene b3952 at 0x7f34b98ea8d0>: 0.8739215069684296,\n",
       " <Gene b3951 at 0x7f34b98ea978>: 0.8739215069684296,\n",
       " <Gene b0902 at 0x7f34b98eaa20>: 0.8739215069684296,\n",
       " <Gene b0903 at 0x7f34b98eaac8>: 0.8739215069684296,\n",
       " <Gene b2579 at 0x7f34b98eab70>: 0.8739215069684296,\n",
       " <Gene b4025 at 0x7f34b98eac18>: 0.8631595522084233,\n",
       " <Gene b2926 at 0x7f34b98eacc0>: 0.0,\n",
       " <Gene b0767 at 0x7f34b98ead68>: 0.863813309504001,\n",
       " <Gene b0755 at 0x7f34b98eae10>: 0.8739215069684296,\n",
       " <Gene b4395 at 0x7f34b98eaeb8>: 0.8739215069684296,\n",
       " <Gene b3612 at 0x7f34b98eaf60>: 0.8739215069684296,\n",
       " <Gene b2987 at 0x7f34b98ef048>: 0.8739215069684296,\n",
       " <Gene b3493 at 0x7f34b98ef0f0>: 0.8739215069684296,\n",
       " <Gene b3956 at 0x7f34b98ef198>: 0.8707448062160619,\n",
       " <Gene b3403 at 0x7f34b98ef240>: 0.8739215069684343,\n",
       " <Gene b1702 at 0x7f34b98ef2e8>: 0.8739215069684343,\n",
       " <Gene b2297 at 0x7f34b98ef390>: 0.8739215069684343,\n",
       " <Gene b2458 at 0x7f34b98ef438>: 0.8739215069684343,\n",
       " <Gene b1676 at 0x7f34b98ef4e0>: 0.8739215069684343,\n",
       " <Gene b1854 at 0x7f34b98ef588>: 0.8739215069684343,\n",
       " <Gene b4301 at 0x7f34b98ef630>: 0.8739215069684343,\n",
       " <Gene b3386 at 0x7f34b98ef6d8>: 0.8739215069684343,\n",
       " <Gene b2914 at 0x7f34b98ef780>: 0.8739215069684343,\n",
       " <Gene b4090 at 0x7f34b98ef828>: 0.8739215069684343,\n",
       " <Gene b0723 at 0x7f34b98ef8d0>: 0.8142975075325113,\n",
       " <Gene b0724 at 0x7f34b98ef978>: 0.8142975075325113,\n",
       " <Gene b0722 at 0x7f34b98efa20>: 0.8142975075325113,\n",
       " <Gene b0721 at 0x7f34b98efac8>: 0.8142975075325113,\n",
       " <Gene b0729 at 0x7f34b98efb70>: 0.858307408022674,\n",
       " <Gene b0728 at 0x7f34b98efc18>: 0.858307408022674,\n",
       " <Gene b0008 at 0x7f34b98efcc0>: 0.8739215069684296,\n",
       " <Gene b2464 at 0x7f34b98efd68>: 0.8739215069684296,\n",
       " <Gene b2935 at 0x7f34b98efe10>: 0.8739215069684296,\n",
       " <Gene b2465 at 0x7f34b98efeb8>: 0.8739215069684296,\n",
       " <Gene b3919 at 0x7f34b98eff60>: 0.70403694785902}"
      ]
     },
     "execution_count": 15,
     "metadata": {},
     "output_type": "execute_result"
    }
   ],
   "source": [
    "essentiality"
   ]
  },
  {
   "cell_type": "code",
   "execution_count": 16,
   "metadata": {},
   "outputs": [],
   "source": [
    "df = DataFrame.from_dict(essentiality, orient='index')\n",
    "df = df.rename(columns={0: 'growth'})\n",
    "df = df.sort_values('growth')"
   ]
  },
  {
   "cell_type": "code",
   "execution_count": 17,
   "metadata": {},
   "outputs": [
    {
     "data": {
      "text/plain": [
       "<matplotlib.axes._subplots.AxesSubplot at 0x7f34b97e87b8>"
      ]
     },
     "execution_count": 17,
     "metadata": {},
     "output_type": "execute_result"
    },
    {
     "data": {
      "image/png": "[encoded data removed]",
      "text/plain": [
       "<Figure size 432x288 with 1 Axes>"
      ]
     },
     "metadata": {
      "needs_background": "light"
     },
     "output_type": "display_data"
    }
   ],
   "source": [
    "df.plot.hist()"
   ]
  },
  {
   "cell_type": "code",
   "execution_count": 18,
   "metadata": {},
   "outputs": [
    {
     "data": {
      "image/png": "[encoded data removed]",
      "text/plain": [
       "<Figure size 1152x648 with 1 Axes>"
      ]
     },
     "metadata": {
      "needs_background": "light"
     },
     "output_type": "display_data"
    }
   ],
   "source": [
    "ax = df.plot.bar().axes\n",
    "ax.figure.set_size_inches(16, 9)"
   ]
  },
  {
   "cell_type": "code",
   "execution_count": null,
   "metadata": {},
   "outputs": [],
   "source": []
  }
 ],
 "metadata": {
  "kernelspec": {
   "display_name": "Python 3",
   "language": "python",
   "name": "python3"
  },
  "language_info": {
   "codemirror_mode": {
    "name": "ipython",
    "version": 3
   },
   "file_extension": ".py",
   "mimetype": "text/x-python",
   "name": "python",
   "nbconvert_exporter": "python",
   "pygments_lexer": "ipython3",
   "version": "3.7.0"
  }
 },
 "nbformat": 4,
 "nbformat_minor": 2
}
